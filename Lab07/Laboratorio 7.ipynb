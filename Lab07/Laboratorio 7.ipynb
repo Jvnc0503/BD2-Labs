{
 "cells": [
  {
   "cell_type": "markdown",
   "metadata": {
    "id": "nYgI_eNJiGYs"
   },
   "source": [
    "<div style=\"border-radius: 5px; padding: 1rem; margin-bottom: 1rem\">\n",
    "<img src=\"https://www.prototypesforhumanity.com/wp-content/uploads/2022/11/LOGO_UTEC_.png\" alt=\"Banner\" width=\"150\" />   \n",
    " </div>\n",
    "\n",
    "# Laboratorio 7: Búsqueda por Similitud en Imágenes \n",
    "\n",
    "> **Prof. Heider Sanchez**  \n",
    "> **ACLs:** Ana María Accilio, Sebastián Loza\n",
    "\n",
    "## Introducción\n",
    "\n",
    "El objetivo del laboratorio es aplicar la búsqueda por rango y la búsqueda de los k vecinos más cercanos sobre un conjunto de vectores caracteŕısticos.  \n",
    "\n",
    "Se toma como referencia un [DataSet de granos secos](https://archive.ics.uci.edu/dataset/602/dry%2Bbean%2Bdataset) el cual contiene los resultados morfométricos del análisis de granos. Cada resultado está representado por un vector característico que toma en cuenta 16 atributos distintos (área, perímetro, eje mayor, eje menor, equidistancia, ecualización, coeficiente de variación, entropía, relación del eje mayor a menor, compacidad, redondez, forma, solidez, elongación, etc.), los cuales son métricas geométricas y de textura obtenidas por procesamiento de imágenes. Además, los granos están agrupados en 7 categorías: Barbunya, Bombay, Cali, Dermason, Horoz, Seker y Sira.\n",
    "\n",
    "\n",
    "<img src=\"imagenes/DryBeans.jpg\" alt=\"Banner\" width=\"350\" /> \n",
    "\n",
    "\n",
    "## **P1. Búsqueda por Rango**  \n",
    "\n",
    "Implementar en cualquier lenguaje de programación el algoritmo lineal de búsqueda por rango, el cual recibe como parámetro el objeto de consulta y un **radio de cobertura**. Luego usando la Distancia Euclidiana (ED) se retorna todos los elementos que son cubiertos por el radio.  \n",
    "\n",
    "- Aplique la búsqueda para 3 elementos de la colección (Q15, Q82, Q150) y para cinco valores de radio (r1 < r2 < r3 < r4 < r5).  \n",
    "- El objeto de consulta debe ser retirado de la colección antes de aplicar la búsqueda.  \n",
    "- Para saber que valores de radio seleccionar, **debe primero realizar un análisis de la distribución de las distancias computando N veces la distancia entre dos elementos aleatorios de la colección.**\n",
    "- Para evaluar la efectividad del resultado se debe usar la medida de Precisión ¿Cuántos de los objetos recuperados pertenecen a la misma categoŕıa de la consulta?:  \n",
    "\n",
    "$\n",
    "\\text{PR} = \\frac{\\#ObjetosRelevantesRecuperados}{\\#ObjetosRecuperados}\n",
    "$  \n",
    "\n",
    "A continuación, se proporciona el cuadro que debe ser llenado por el alumno.  \n",
    "\n",
    "| *PR*           | *Q₁₅*       | *Q₈₂*      | *Q₁₅₀*      |\n",
    "|----------------|-------------|------------|-------------|\n",
    "| r1 =           |             |            |             |\n",
    "| r2 =           |             |            |             |\n",
    "| r3 =           |             |            |             |\n",
    "| r4 =           |             |            |             |\n",
    "| r5 =           |             |            |             |"
   ]
  },
  {
   "cell_type": "code",
   "execution_count": 69,
   "metadata": {},
   "outputs": [
    {
     "data": {
      "text/html": [
       "<div>\n",
       "<style scoped>\n",
       "    .dataframe tbody tr th:only-of-type {\n",
       "        vertical-align: middle;\n",
       "    }\n",
       "\n",
       "    .dataframe tbody tr th {\n",
       "        vertical-align: top;\n",
       "    }\n",
       "\n",
       "    .dataframe thead th {\n",
       "        text-align: right;\n",
       "    }\n",
       "</style>\n",
       "<table border=\"1\" class=\"dataframe\">\n",
       "  <thead>\n",
       "    <tr style=\"text-align: right;\">\n",
       "      <th></th>\n",
       "      <th>Area</th>\n",
       "      <th>Perimeter</th>\n",
       "      <th>MajorAxisLength</th>\n",
       "      <th>MinorAxisLength</th>\n",
       "      <th>AspectRatio</th>\n",
       "      <th>Eccentricity</th>\n",
       "      <th>ConvexArea</th>\n",
       "      <th>EquivDiameter</th>\n",
       "      <th>Extent</th>\n",
       "      <th>Solidity</th>\n",
       "      <th>Roundness</th>\n",
       "      <th>Compactness</th>\n",
       "      <th>ShapeFactor1</th>\n",
       "      <th>ShapeFactor2</th>\n",
       "      <th>ShapeFactor3</th>\n",
       "      <th>ShapeFactor4</th>\n",
       "    </tr>\n",
       "  </thead>\n",
       "  <tbody>\n",
       "    <tr>\n",
       "      <th>0</th>\n",
       "      <td>0.034053</td>\n",
       "      <td>0.058574</td>\n",
       "      <td>0.044262</td>\n",
       "      <td>0.152142</td>\n",
       "      <td>0.122612</td>\n",
       "      <td>0.477797</td>\n",
       "      <td>0.033107</td>\n",
       "      <td>0.070804</td>\n",
       "      <td>0.671024</td>\n",
       "      <td>0.922824</td>\n",
       "      <td>0.934823</td>\n",
       "      <td>0.786733</td>\n",
       "      <td>0.593432</td>\n",
       "      <td>0.833049</td>\n",
       "      <td>0.750996</td>\n",
       "      <td>0.980620</td>\n",
       "    </tr>\n",
       "    <tr>\n",
       "      <th>1</th>\n",
       "      <td>0.035500</td>\n",
       "      <td>0.077557</td>\n",
       "      <td>0.030479</td>\n",
       "      <td>0.178337</td>\n",
       "      <td>0.051577</td>\n",
       "      <td>0.278472</td>\n",
       "      <td>0.034991</td>\n",
       "      <td>0.073577</td>\n",
       "      <td>0.735504</td>\n",
       "      <td>0.871514</td>\n",
       "      <td>0.793138</td>\n",
       "      <td>0.903549</td>\n",
       "      <td>0.547447</td>\n",
       "      <td>0.967316</td>\n",
       "      <td>0.884987</td>\n",
       "      <td>0.974979</td>\n",
       "    </tr>\n",
       "    <tr>\n",
       "      <th>2</th>\n",
       "      <td>0.038259</td>\n",
       "      <td>0.068035</td>\n",
       "      <td>0.052633</td>\n",
       "      <td>0.158190</td>\n",
       "      <td>0.131521</td>\n",
       "      <td>0.496448</td>\n",
       "      <td>0.037126</td>\n",
       "      <td>0.078816</td>\n",
       "      <td>0.716671</td>\n",
       "      <td>0.932141</td>\n",
       "      <td>0.914511</td>\n",
       "      <td>0.773514</td>\n",
       "      <td>0.582016</td>\n",
       "      <td>0.800942</td>\n",
       "      <td>0.736200</td>\n",
       "      <td>0.987196</td>\n",
       "    </tr>\n",
       "    <tr>\n",
       "      <th>3</th>\n",
       "      <td>0.040940</td>\n",
       "      <td>0.082942</td>\n",
       "      <td>0.048548</td>\n",
       "      <td>0.177691</td>\n",
       "      <td>0.091623</td>\n",
       "      <td>0.403864</td>\n",
       "      <td>0.041389</td>\n",
       "      <td>0.083854</td>\n",
       "      <td>0.731365</td>\n",
       "      <td>0.761614</td>\n",
       "      <td>0.826871</td>\n",
       "      <td>0.829912</td>\n",
       "      <td>0.552408</td>\n",
       "      <td>0.854744</td>\n",
       "      <td>0.799846</td>\n",
       "      <td>0.893675</td>\n",
       "    </tr>\n",
       "    <tr>\n",
       "      <th>4</th>\n",
       "      <td>0.041504</td>\n",
       "      <td>0.065313</td>\n",
       "      <td>0.032862</td>\n",
       "      <td>0.200679</td>\n",
       "      <td>0.025565</td>\n",
       "      <td>0.165680</td>\n",
       "      <td>0.040123</td>\n",
       "      <td>0.084906</td>\n",
       "      <td>0.700538</td>\n",
       "      <td>0.949832</td>\n",
       "      <td>0.988408</td>\n",
       "      <td>0.951583</td>\n",
       "      <td>0.510741</td>\n",
       "      <td>1.000000</td>\n",
       "      <td>0.941770</td>\n",
       "      <td>0.989116</td>\n",
       "    </tr>\n",
       "  </tbody>\n",
       "</table>\n",
       "</div>"
      ],
      "text/plain": [
       "       Area  Perimeter  MajorAxisLength  MinorAxisLength  AspectRatio  \\\n",
       "0  0.034053   0.058574         0.044262         0.152142     0.122612   \n",
       "1  0.035500   0.077557         0.030479         0.178337     0.051577   \n",
       "2  0.038259   0.068035         0.052633         0.158190     0.131521   \n",
       "3  0.040940   0.082942         0.048548         0.177691     0.091623   \n",
       "4  0.041504   0.065313         0.032862         0.200679     0.025565   \n",
       "\n",
       "   Eccentricity  ConvexArea  EquivDiameter    Extent  Solidity  Roundness  \\\n",
       "0      0.477797    0.033107       0.070804  0.671024  0.922824   0.934823   \n",
       "1      0.278472    0.034991       0.073577  0.735504  0.871514   0.793138   \n",
       "2      0.496448    0.037126       0.078816  0.716671  0.932141   0.914511   \n",
       "3      0.403864    0.041389       0.083854  0.731365  0.761614   0.826871   \n",
       "4      0.165680    0.040123       0.084906  0.700538  0.949832   0.988408   \n",
       "\n",
       "   Compactness  ShapeFactor1  ShapeFactor2  ShapeFactor3  ShapeFactor4  \n",
       "0     0.786733      0.593432      0.833049      0.750996      0.980620  \n",
       "1     0.903549      0.547447      0.967316      0.884987      0.974979  \n",
       "2     0.773514      0.582016      0.800942      0.736200      0.987196  \n",
       "3     0.829912      0.552408      0.854744      0.799846      0.893675  \n",
       "4     0.951583      0.510741      1.000000      0.941770      0.989116  "
      ]
     },
     "execution_count": 69,
     "metadata": {},
     "output_type": "execute_result"
    }
   ],
   "source": [
    "from ucimlrepo import fetch_ucirepo\n",
    "import numpy as np\n",
    "import matplotlib.pyplot as plt\n",
    "\n",
    "data = fetch_ucirepo(id = 602)\n",
    "df = data.data.features\n",
    "targets = data.data.targets\n",
    "df = (df - df.min()) / (df.max() - df.min())\n",
    "df.head()"
   ]
  },
  {
   "cell_type": "markdown",
   "metadata": {},
   "source": [
    "### a) Análisis de la distribución de la distancia (con 5000 pares de puntos)"
   ]
  },
  {
   "cell_type": "code",
   "execution_count": 70,
   "metadata": {},
   "outputs": [],
   "source": [
    "def ED(P, Q):\n",
    "    return np.sqrt(np.sum(np.square(P - Q)))"
   ]
  },
  {
   "cell_type": "code",
   "execution_count": 71,
   "metadata": {},
   "outputs": [
    {
     "data": {
      "image/png": "[encoded data removed]",
      "text/plain": [
       "<Figure size 640x480 with 1 Axes>"
      ]
     },
     "metadata": {},
     "output_type": "display_data"
    }
   ],
   "source": [
    "N = 5000\n",
    "data1 = df.sample(n = N, random_state=1)\n",
    "data2 = df.sample(n = N, random_state=2)\n",
    "distance = np.zeros(N)\n",
    "\n",
    "for i in range(N):\n",
    "    distance[i] = ED(data1.iloc[i], data2.iloc[i])\n",
    "\n",
    "plt.hist(distance, bins=50)\n",
    "plt.show()\n"
   ]
  },
  {
   "cell_type": "markdown",
   "metadata": {},
   "source": [
    "### b) Calculo de la búsqueda por rango"
   ]
  },
  {
   "cell_type": "code",
   "execution_count": 77,
   "metadata": {},
   "outputs": [],
   "source": [
    "def rangeSearch(data, query, radius):\n",
    "    result = []\n",
    "    for i in range(len(data)):\n",
    "        if ED(data.iloc[i], query) <= radius:\n",
    "            result.append(i)\n",
    "    return result"
   ]
  },
  {
   "cell_type": "code",
   "execution_count": 82,
   "metadata": {},
   "outputs": [
    {
     "name": "stdout",
     "output_type": "stream",
     "text": [
      "Query: 15, Radius: 0.1, Results: 29, PR: 1.0\n"
     ]
    },
    {
     "ename": "KeyboardInterrupt",
     "evalue": "",
     "output_type": "error",
     "traceback": [
      "\u001b[31m---------------------------------------------------------------------------\u001b[39m",
      "\u001b[31mKeyboardInterrupt\u001b[39m                         Traceback (most recent call last)",
      "\u001b[36mCell\u001b[39m\u001b[36m \u001b[39m\u001b[32mIn[82]\u001b[39m\u001b[32m, line 8\u001b[39m\n\u001b[32m      6\u001b[39m target = targets.iloc[idx, -\u001b[32m1\u001b[39m]\n\u001b[32m      7\u001b[39m \u001b[38;5;28;01mfor\u001b[39;00m r \u001b[38;5;129;01min\u001b[39;00m radius:\n\u001b[32m----> \u001b[39m\u001b[32m8\u001b[39m     result = \u001b[43mrangeSearch\u001b[49m\u001b[43m(\u001b[49m\u001b[43mdf\u001b[49m\u001b[43m,\u001b[49m\u001b[43m \u001b[49m\u001b[43mquery\u001b[49m\u001b[43m,\u001b[49m\u001b[43m \u001b[49m\u001b[43mr\u001b[49m\u001b[43m)\u001b[49m\n\u001b[32m      9\u001b[39m     PR = \u001b[32m0\u001b[39m\n\u001b[32m     10\u001b[39m     \u001b[38;5;28;01mfor\u001b[39;00m i \u001b[38;5;129;01min\u001b[39;00m result:\n",
      "\u001b[36mCell\u001b[39m\u001b[36m \u001b[39m\u001b[32mIn[77]\u001b[39m\u001b[32m, line 4\u001b[39m, in \u001b[36mrangeSearch\u001b[39m\u001b[34m(data, query, radius)\u001b[39m\n\u001b[32m      2\u001b[39m result = []\n\u001b[32m      3\u001b[39m \u001b[38;5;28;01mfor\u001b[39;00m i \u001b[38;5;129;01min\u001b[39;00m \u001b[38;5;28mrange\u001b[39m(\u001b[38;5;28mlen\u001b[39m(data)):\n\u001b[32m----> \u001b[39m\u001b[32m4\u001b[39m     \u001b[38;5;28;01mif\u001b[39;00m ED(\u001b[43mdata\u001b[49m\u001b[43m.\u001b[49m\u001b[43miloc\u001b[49m\u001b[43m[\u001b[49m\u001b[43mi\u001b[49m\u001b[43m]\u001b[49m, query) <= radius:\n\u001b[32m      5\u001b[39m         result.append(i)\n\u001b[32m      6\u001b[39m \u001b[38;5;28;01mreturn\u001b[39;00m result\n",
      "\u001b[36mFile \u001b[39m\u001b[32mc:\\Users\\Jvnc\\AppData\\Local\\Programs\\Python\\Python313\\Lib\\site-packages\\pandas\\core\\indexing.py:1191\u001b[39m, in \u001b[36m_LocationIndexer.__getitem__\u001b[39m\u001b[34m(self, key)\u001b[39m\n\u001b[32m   1189\u001b[39m maybe_callable = com.apply_if_callable(key, \u001b[38;5;28mself\u001b[39m.obj)\n\u001b[32m   1190\u001b[39m maybe_callable = \u001b[38;5;28mself\u001b[39m._check_deprecated_callable_usage(key, maybe_callable)\n\u001b[32m-> \u001b[39m\u001b[32m1191\u001b[39m \u001b[38;5;28;01mreturn\u001b[39;00m \u001b[38;5;28;43mself\u001b[39;49m\u001b[43m.\u001b[49m\u001b[43m_getitem_axis\u001b[49m\u001b[43m(\u001b[49m\u001b[43mmaybe_callable\u001b[49m\u001b[43m,\u001b[49m\u001b[43m \u001b[49m\u001b[43maxis\u001b[49m\u001b[43m=\u001b[49m\u001b[43maxis\u001b[49m\u001b[43m)\u001b[49m\n",
      "\u001b[36mFile \u001b[39m\u001b[32mc:\\Users\\Jvnc\\AppData\\Local\\Programs\\Python\\Python313\\Lib\\site-packages\\pandas\\core\\indexing.py:1754\u001b[39m, in \u001b[36m_iLocIndexer._getitem_axis\u001b[39m\u001b[34m(self, key, axis)\u001b[39m\n\u001b[32m   1751\u001b[39m \u001b[38;5;66;03m# validate the location\u001b[39;00m\n\u001b[32m   1752\u001b[39m \u001b[38;5;28mself\u001b[39m._validate_integer(key, axis)\n\u001b[32m-> \u001b[39m\u001b[32m1754\u001b[39m \u001b[38;5;28;01mreturn\u001b[39;00m \u001b[38;5;28;43mself\u001b[39;49m\u001b[43m.\u001b[49m\u001b[43mobj\u001b[49m\u001b[43m.\u001b[49m\u001b[43m_ixs\u001b[49m\u001b[43m(\u001b[49m\u001b[43mkey\u001b[49m\u001b[43m,\u001b[49m\u001b[43m \u001b[49m\u001b[43maxis\u001b[49m\u001b[43m=\u001b[49m\u001b[43maxis\u001b[49m\u001b[43m)\u001b[49m\n",
      "\u001b[36mFile \u001b[39m\u001b[32mc:\\Users\\Jvnc\\AppData\\Local\\Programs\\Python\\Python313\\Lib\\site-packages\\pandas\\core\\frame.py:3996\u001b[39m, in \u001b[36mDataFrame._ixs\u001b[39m\u001b[34m(self, i, axis)\u001b[39m\n\u001b[32m   3994\u001b[39m \u001b[38;5;66;03m# irow\u001b[39;00m\n\u001b[32m   3995\u001b[39m \u001b[38;5;28;01mif\u001b[39;00m axis == \u001b[32m0\u001b[39m:\n\u001b[32m-> \u001b[39m\u001b[32m3996\u001b[39m     new_mgr = \u001b[38;5;28;43mself\u001b[39;49m\u001b[43m.\u001b[49m\u001b[43m_mgr\u001b[49m\u001b[43m.\u001b[49m\u001b[43mfast_xs\u001b[49m\u001b[43m(\u001b[49m\u001b[43mi\u001b[49m\u001b[43m)\u001b[49m\n\u001b[32m   3998\u001b[39m     \u001b[38;5;66;03m# if we are a copy, mark as such\u001b[39;00m\n\u001b[32m   3999\u001b[39m     copy = \u001b[38;5;28misinstance\u001b[39m(new_mgr.array, np.ndarray) \u001b[38;5;129;01mand\u001b[39;00m new_mgr.array.base \u001b[38;5;129;01mis\u001b[39;00m \u001b[38;5;28;01mNone\u001b[39;00m\n",
      "\u001b[36mFile \u001b[39m\u001b[32mc:\\Users\\Jvnc\\AppData\\Local\\Programs\\Python\\Python313\\Lib\\site-packages\\pandas\\core\\internals\\managers.py:1002\u001b[39m, in \u001b[36mBlockManager.fast_xs\u001b[39m\u001b[34m(self, loc)\u001b[39m\n\u001b[32m    998\u001b[39m \u001b[38;5;28;01mfor\u001b[39;00m blk \u001b[38;5;129;01min\u001b[39;00m \u001b[38;5;28mself\u001b[39m.blocks:\n\u001b[32m    999\u001b[39m     \u001b[38;5;66;03m# Such assignment may incorrectly coerce NaT to None\u001b[39;00m\n\u001b[32m   1000\u001b[39m     \u001b[38;5;66;03m# result[blk.mgr_locs] = blk._slice((slice(None), loc))\u001b[39;00m\n\u001b[32m   1001\u001b[39m     \u001b[38;5;28;01mfor\u001b[39;00m i, rl \u001b[38;5;129;01min\u001b[39;00m \u001b[38;5;28menumerate\u001b[39m(blk.mgr_locs):\n\u001b[32m-> \u001b[39m\u001b[32m1002\u001b[39m         result[rl] = \u001b[43mblk\u001b[49m\u001b[43m.\u001b[49m\u001b[43miget\u001b[49m\u001b[43m(\u001b[49m\u001b[43m(\u001b[49m\u001b[43mi\u001b[49m\u001b[43m,\u001b[49m\u001b[43m \u001b[49m\u001b[43mloc\u001b[49m\u001b[43m)\u001b[49m\u001b[43m)\u001b[49m\n\u001b[32m   1004\u001b[39m \u001b[38;5;28;01mif\u001b[39;00m \u001b[38;5;28misinstance\u001b[39m(dtype, ExtensionDtype):\n\u001b[32m   1005\u001b[39m     \u001b[38;5;28mcls\u001b[39m = dtype.construct_array_type()\n",
      "\u001b[36mFile \u001b[39m\u001b[32mc:\\Users\\Jvnc\\AppData\\Local\\Programs\\Python\\Python313\\Lib\\site-packages\\pandas\\core\\internals\\blocks.py:1253\u001b[39m, in \u001b[36mBlock.iget\u001b[39m\u001b[34m(self, i)\u001b[39m\n\u001b[32m   1249\u001b[39m \u001b[38;5;129m@property\u001b[39m\n\u001b[32m   1250\u001b[39m \u001b[38;5;28;01mdef\u001b[39;00m\u001b[38;5;250m \u001b[39m\u001b[34mshape\u001b[39m(\u001b[38;5;28mself\u001b[39m) -> Shape:\n\u001b[32m   1251\u001b[39m     \u001b[38;5;28;01mreturn\u001b[39;00m \u001b[38;5;28mself\u001b[39m.values.shape\n\u001b[32m-> \u001b[39m\u001b[32m1253\u001b[39m \u001b[38;5;28;01mdef\u001b[39;00m\u001b[38;5;250m \u001b[39m\u001b[34miget\u001b[39m(\u001b[38;5;28mself\u001b[39m, i: \u001b[38;5;28mint\u001b[39m | \u001b[38;5;28mtuple\u001b[39m[\u001b[38;5;28mint\u001b[39m, \u001b[38;5;28mint\u001b[39m] | \u001b[38;5;28mtuple\u001b[39m[\u001b[38;5;28mslice\u001b[39m, \u001b[38;5;28mint\u001b[39m]) -> np.ndarray:\n\u001b[32m   1254\u001b[39m     \u001b[38;5;66;03m# In the case where we have a tuple[slice, int], the slice will always\u001b[39;00m\n\u001b[32m   1255\u001b[39m     \u001b[38;5;66;03m#  be slice(None)\u001b[39;00m\n\u001b[32m   1256\u001b[39m     \u001b[38;5;66;03m# Note: only reached with self.ndim == 2\u001b[39;00m\n\u001b[32m   1257\u001b[39m     \u001b[38;5;66;03m# Invalid index type \"Union[int, Tuple[int, int], Tuple[slice, int]]\"\u001b[39;00m\n\u001b[32m   1258\u001b[39m     \u001b[38;5;66;03m# for \"Union[ndarray[Any, Any], ExtensionArray]\"; expected type\u001b[39;00m\n\u001b[32m   1259\u001b[39m     \u001b[38;5;66;03m# \"Union[int, integer[Any]]\"\u001b[39;00m\n\u001b[32m   1260\u001b[39m     \u001b[38;5;28;01mreturn\u001b[39;00m \u001b[38;5;28mself\u001b[39m.values[i]  \u001b[38;5;66;03m# type: ignore[index]\u001b[39;00m\n\u001b[32m   1262\u001b[39m \u001b[38;5;28;01mdef\u001b[39;00m\u001b[38;5;250m \u001b[39m\u001b[34m_slice\u001b[39m(\n\u001b[32m   1263\u001b[39m     \u001b[38;5;28mself\u001b[39m, slicer: \u001b[38;5;28mslice\u001b[39m | npt.NDArray[np.bool_] | npt.NDArray[np.intp]\n\u001b[32m   1264\u001b[39m ) -> ArrayLike:\n",
      "\u001b[31mKeyboardInterrupt\u001b[39m: "
     ]
    }
   ],
   "source": [
    "radius = [0.1, 0.2, 0.3, 0.4, 0.5]\n",
    "idxs = [15, 2084, 3560]\n",
    "\n",
    "for idx in idxs:\n",
    "    query = df.iloc[idx]\n",
    "    target = targets.iloc[idx, -1]\n",
    "    for r in radius:\n",
    "        result = rangeSearch(df, query, r)\n",
    "        PR = 0\n",
    "        for i in result:\n",
    "            if targets.iloc[i, -1] == target:\n",
    "                PR += 1\n",
    "        PR /= len(result)\n",
    "        print(f\"Query: {idx}, Radius: {r}, Results: {len(result)}, PR: {PR}\") "
   ]
  },
  {
   "cell_type": "markdown",
   "metadata": {},
   "source": [
    "## **P2. Búsqueda KNN**  \n",
    "\n",
    "Usando los mismos objetos de consulta del ejercicio anterior, implementar y aplicar el algoritmo lineal de búsqueda de los k vecinos más cercanos (KNN) variando el k entre 2, 4, 8, 16, 32.  \n",
    "\n",
    "**La forma más eficiente de implementar el KNN es gestionando la lista de resultado en una cola de prioridad máxima. Analice la complejidad.**  \n",
    "\n",
    "PR Q15 Q82 Q150  \n",
    "\n",
    "| *PR*           | *Q₁₅*       | *Q₈₂*      | *Q₁₅₀*      |\n",
    "|----------------|-------------|------------|-------------|\n",
    "| k = 2          |             |            |             |\n",
    "| k = 4          |             |            |             |\n",
    "| k = 8          |             |            |             |\n",
    "| k = 16         |             |            |             |\n",
    "| k = 32         |             |            |             |"
   ]
  },
  {
   "cell_type": "code",
   "execution_count": null,
   "metadata": {},
   "outputs": [],
   "source": [
    "# Solución Aquí"
   ]
  },
  {
   "cell_type": "markdown",
   "metadata": {},
   "source": [
    "**Preguntas**  \n",
    "1. ¿Cuál es la complejidad computacional de ambos métodos de búsqueda en función de cálculos de la ED?  \n",
    "\n",
    "2. ¿Cuál de los dos métodos de búsqueda usted usaría en un ambiente real de recuperación de la información? Sustente su respuesta.  "
   ]
  }
 ],
 "metadata": {
  "colab": {
   "authorship_tag": "ABX9TyPSKCprPOzgorCUhaGAcnoD",
   "provenance": []
  },
  "kernelspec": {
   "display_name": "Python 3",
   "name": "python3"
  },
  "language_info": {
   "codemirror_mode": {
    "name": "ipython",
    "version": 3
   },
   "file_extension": ".py",
   "mimetype": "text/x-python",
   "name": "python",
   "nbconvert_exporter": "python",
   "pygments_lexer": "ipython3",
   "version": "3.13.0"
  }
 },
 "nbformat": 4,
 "nbformat_minor": 0
}
