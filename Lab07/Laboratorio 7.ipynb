{
 "cells": [
  {
   "cell_type": "markdown",
   "metadata": {
    "id": "nYgI_eNJiGYs"
   },
   "source": [
    "<div style=\"border-radius: 5px; padding: 1rem; margin-bottom: 1rem\">\n",
    "<img src=\"https://www.prototypesforhumanity.com/wp-content/uploads/2022/11/LOGO_UTEC_.png\" alt=\"Banner\" width=\"150\" />   \n",
    " </div>\n",
    "\n",
    "# Laboratorio 7: Búsqueda por Similitud en Imágenes \n",
    "\n",
    "> **Prof. Heider Sanchez**  \n",
    "> **ACLs:** Ana María Accilio, Sebastián Loza\n",
    "\n",
    "## Introducción\n",
    "\n",
    "El objetivo del laboratorio es aplicar la búsqueda por rango y la búsqueda de los k vecinos más cercanos sobre un conjunto de vectores caracteŕısticos.  \n",
    "\n",
    "Se toma como referencia un [DataSet de granos secos](https://archive.ics.uci.edu/dataset/602/dry%2Bbean%2Bdataset) el cual contiene los resultados morfométricos del análisis de granos. Cada resultado está representado por un vector característico que toma en cuenta 16 atributos distintos (área, perímetro, eje mayor, eje menor, equidistancia, ecualización, coeficiente de variación, entropía, relación del eje mayor a menor, compacidad, redondez, forma, solidez, elongación, etc.), los cuales son métricas geométricas y de textura obtenidas por procesamiento de imágenes. Además, los granos están agrupados en 7 categorías: Barbunya, Bombay, Cali, Dermason, Horoz, Seker y Sira.\n",
    "\n",
    "\n",
    "<img src=\"imagenes/DryBeans.jpg\" alt=\"Banner\" width=\"350\" /> \n",
    "\n",
    "\n",
    "## **P1. Búsqueda por Rango**  \n",
    "\n",
    "Implementar en cualquier lenguaje de programación el algoritmo lineal de búsqueda por rango, el cual recibe como parámetro el objeto de consulta y un **radio de cobertura**. Luego usando la Distancia Euclidiana (ED) se retorna todos los elementos que son cubiertos por el radio.  \n",
    "\n",
    "- Aplique la búsqueda para 3 elementos de la colección (Q15, Q82, Q150) y para cinco valores de radio (r1 < r2 < r3 < r4 < r5).  \n",
    "- El objeto de consulta debe ser retirado de la colección antes de aplicar la búsqueda.  \n",
    "- Para saber que valores de radio seleccionar, **debe primero realizar un análisis de la distribución de las distancias computando N veces la distancia entre dos elementos aleatorios de la colección.**\n",
    "- Para evaluar la efectividad del resultado se debe usar la medida de Precisión ¿Cuántos de los objetos recuperados pertenecen a la misma categoŕıa de la consulta?:  \n",
    "\n",
    "$\n",
    "\\text{PR} = \\frac{\\#ObjetosRelevantesRecuperados}{\\#ObjetosRecuperados}\n",
    "$  \n",
    "\n",
    "A continuación, se proporciona el cuadro que debe ser llenado por el alumno.  \n",
    "\n",
    "| *PR*           | *Q₁₅*       | *Q₈₂*      | *Q₁₅₀*      |\n",
    "|----------------|-------------|------------|-------------|\n",
    "| r1 =           |             |            |             |\n",
    "| r2 =           |             |            |             |\n",
    "| r3 =           |             |            |             |\n",
    "| r4 =           |             |            |             |\n",
    "| r5 =           |             |            |             |"
   ]
  },
  {
   "cell_type": "markdown",
   "metadata": {},
   "source": [
    "### a) Análisis de la distribución de la distancia (con 5000 pares de puntos)"
   ]
  },
  {
   "cell_type": "code",
   "execution_count": null,
   "metadata": {},
   "outputs": [],
   "source": [
    "# Solución Aquí\n",
    "from ucimlrepo import fetch_ucirepo\n",
    "\n",
    "df = fetch_ucirepo(id = 602)\n",
    "\n",
    "def ed(a, b):\n",
    "    pass\n",
    "\n",
    "def rangeSearch(obj, radius):\n",
    "    pass"
   ]
  },
  {
   "cell_type": "markdown",
   "metadata": {},
   "source": [
    "### b) Calculo de la búsqueda por rango"
   ]
  },
  {
   "cell_type": "code",
   "execution_count": 2,
   "metadata": {},
   "outputs": [],
   "source": [
    "# Solución Aquí"
   ]
  },
  {
   "cell_type": "markdown",
   "metadata": {},
   "source": [
    "## **P2. Búsqueda KNN**  \n",
    "\n",
    "Usando los mismos objetos de consulta del ejercicio anterior, implementar y aplicar el algoritmo lineal de búsqueda de los k vecinos más cercanos (KNN) variando el k entre 2, 4, 8, 16, 32.  \n",
    "\n",
    "**La forma más eficiente de implementar el KNN es gestionando la lista de resultado en una cola de prioridad máxima. Analice la complejidad.**  \n",
    "\n",
    "PR Q15 Q82 Q150  \n",
    "\n",
    "| *PR*           | *Q₁₅*       | *Q₈₂*      | *Q₁₅₀*      |\n",
    "|----------------|-------------|------------|-------------|\n",
    "| k = 2          |             |            |             |\n",
    "| k = 4          |             |            |             |\n",
    "| k = 8          |             |            |             |\n",
    "| k = 16         |             |            |             |\n",
    "| k = 32         |             |            |             |"
   ]
  },
  {
   "cell_type": "code",
   "execution_count": 3,
   "metadata": {},
   "outputs": [],
   "source": [
    "# Solución Aquí"
   ]
  },
  {
   "cell_type": "markdown",
   "metadata": {},
   "source": [
    "**Preguntas**  \n",
    "1. ¿Cuál es la complejidad computacional de ambos métodos de búsqueda en función de cálculos de la ED?  \n",
    "\n",
    "2. ¿Cuál de los dos métodos de búsqueda usted usaría en un ambiente real de recuperación de la información? Sustente su respuesta.  "
   ]
  }
 ],
 "metadata": {
  "colab": {
   "authorship_tag": "ABX9TyPSKCprPOzgorCUhaGAcnoD",
   "provenance": []
  },
  "kernelspec": {
   "display_name": "Python 3",
   "name": "python3"
  },
  "language_info": {
   "codemirror_mode": {
    "name": "ipython",
    "version": 3
   },
   "file_extension": ".py",
   "mimetype": "text/x-python",
   "name": "python",
   "nbconvert_exporter": "python",
   "pygments_lexer": "ipython3",
   "version": "3.13.0"
  }
 },
 "nbformat": 4,
 "nbformat_minor": 0
}
