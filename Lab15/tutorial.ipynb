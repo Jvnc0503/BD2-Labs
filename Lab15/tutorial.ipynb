{
 "cells": [
  {
   "cell_type": "code",
   "execution_count": 14,
   "id": "a5e16ecf",
   "metadata": {
    "vscode": {
     "languageId": "bat"
    }
   },
   "outputs": [
    {
     "name": "stdout",
     "output_type": "stream",
     "text": [
      "Channels:\n",
      " - anaconda\n",
      " - defaults\n",
      "Platform: win-64\n",
      "Collecting package metadata (repodata.json): done\n",
      "Solving environment: failed\n",
      "\n",
      "Note: you may need to restart the kernel to use updated packages.\n"
     ]
    },
    {
     "name": "stderr",
     "output_type": "stream",
     "text": [
      "\n",
      "PackagesNotFoundError: The following packages are not available from current channels:\n",
      "\n",
      "  - libev\n",
      "\n",
      "Current channels:\n",
      "\n",
      "  - https://conda.anaconda.org/anaconda\n",
      "  - defaults\n",
      "\n",
      "To search for alternate channels that may provide the conda package you're\n",
      "looking for, navigate to\n",
      "\n",
      "    https://anaconda.org\n",
      "\n",
      "and use the search bar at the top of the page.\n",
      "\n",
      "\n"
     ]
    },
    {
     "name": "stdout",
     "output_type": "stream",
     "text": [
      "Channels:\n",
      " - msys2\n",
      " - defaults\n",
      "Platform: win-64\n",
      "Collecting package metadata (repodata.json): done\n",
      "Solving environment: done\n",
      "\n",
      "# All requested packages already installed.\n",
      "\n",
      "\n",
      "Note: you may need to restart the kernel to use updated packages.\n"
     ]
    },
    {
     "name": "stderr",
     "output_type": "stream",
     "text": [
      "\n",
      "\n",
      "==> WARNING: A newer version of conda exists. <==\n",
      "    current version: 25.3.1\n",
      "    latest version: 25.5.1\n",
      "\n",
      "Please update conda by running\n",
      "\n",
      "    $ conda update -n base -c defaults conda\n",
      "\n",
      "\n"
     ]
    },
    {
     "name": "stdout",
     "output_type": "stream",
     "text": [
      "Channels:\n",
      " - conda-forge\n",
      " - defaults\n",
      "Platform: win-64\n",
      "Collecting package metadata (repodata.json): done\n",
      "Solving environment: done\n",
      "\n",
      "# All requested packages already installed.\n",
      "\n",
      "\n",
      "Note: you may need to restart the kernel to use updated packages.\n"
     ]
    },
    {
     "name": "stderr",
     "output_type": "stream",
     "text": [
      "\n",
      "\n",
      "==> WARNING: A newer version of conda exists. <==\n",
      "    current version: 25.3.1\n",
      "    latest version: 25.5.1\n",
      "\n",
      "Please update conda by running\n",
      "\n",
      "    $ conda update -n base -c defaults conda\n",
      "\n",
      "\n"
     ]
    },
    {
     "name": "stdout",
     "output_type": "stream",
     "text": [
      "Requirement already satisfied: cassandra-driver in c:\\users\\jvnc\\documents\\bd2\\bd2-labs\\lab15\\.conda\\lib\\site-packages (3.29.2)\n",
      "Requirement already satisfied: geomet<0.3,>=0.1 in c:\\users\\jvnc\\documents\\bd2\\bd2-labs\\lab15\\.conda\\lib\\site-packages (from cassandra-driver) (0.2.1.post1)\n",
      "Requirement already satisfied: click in c:\\users\\jvnc\\documents\\bd2\\bd2-labs\\lab15\\.conda\\lib\\site-packages (from geomet<0.3,>=0.1->cassandra-driver) (8.2.1)\n",
      "Requirement already satisfied: six in c:\\users\\jvnc\\documents\\bd2\\bd2-labs\\lab15\\.conda\\lib\\site-packages (from geomet<0.3,>=0.1->cassandra-driver) (1.17.0)\n",
      "Requirement already satisfied: colorama in c:\\users\\jvnc\\documents\\bd2\\bd2-labs\\lab15\\.conda\\lib\\site-packages (from click->geomet<0.3,>=0.1->cassandra-driver) (0.4.6)\n",
      "Note: you may need to restart the kernel to use updated packages.\n",
      "Requirement already satisfied: psycopg2 in c:\\users\\jvnc\\documents\\bd2\\bd2-labs\\lab15\\.conda\\lib\\site-packages (2.9.10)\n",
      "Note: you may need to restart the kernel to use updated packages.\n"
     ]
    }
   ],
   "source": [
    "%conda install -c anaconda libev\n",
    "%conda install -c msys2 m2-make\n",
    "%conda install -c conda-forge pkg-config\n",
    "%pip install cassandra-driver\n",
    "%pip install psycopg2"
   ]
  },
  {
   "cell_type": "code",
   "execution_count": null,
   "id": "4f7da36c",
   "metadata": {},
   "outputs": [
    {
     "name": "stdout",
     "output_type": "stream",
     "text": [
      "Tabla temperature_day eliminada correctamente.\n",
      "Tabla temperature_day creada correctamente.\n",
      "10000 filas insertadas correctamente en la tabla temperature_day.\n",
      "Tiempo de ejecución en Cassandra: 0.0138 segundos\n",
      "Tiempo de ejecución en PostgreSQL: 0.0010 segundos\n"
     ]
    }
   ],
   "source": [
    "import random\n",
    "import uuid\n",
    "import psycopg2\n",
    "import time\n",
    "from datetime import datetime, timedelta\n",
    "from cassandra.cluster import Cluster\n",
    "\n",
    "cluster = Cluster(['localhost'])\n",
    "cassandra = cluster.connect('my_keyspace')\n",
    "\n",
    "connect = psycopg2.connect(dbname=\"lab15\", user=\"postgres\", password=\"postgres\", host=\"localhost\", port=5432)\n",
    "connect.autocommit = True\n",
    "postgres = connect.cursor()\n",
    "\n",
    "def random_date(start, end):\n",
    "    return start + timedelta(\n",
    "        seconds=random.randint(0, int((end - start).total_seconds()))\n",
    "    )\n",
    "\n",
    "def create() -> None:\n",
    "    cassandra_query = \"\"\"\n",
    "    create table if not exists temperature_day (\n",
    "        sensor_id text,\n",
    "        date text,\n",
    "        event_time timestamp,\n",
    "        temperature float,\n",
    "        primary key((sensor_id, date), event_time)\n",
    "    ) with clustering order by (event_time asc)\n",
    "    \"\"\"\n",
    "    postgres_query = \"\"\"\n",
    "    create table if not exists temperature_day (\n",
    "        sensor_id text,\n",
    "        date text,\n",
    "        event_time timestamp,\n",
    "        temperature float,\n",
    "        primary key(sensor_id, date, event_time)\n",
    "    )\n",
    "    \"\"\"\n",
    "    cassandra.execute(cassandra_query)\n",
    "    postgres.execute(postgres_query)\n",
    "    print(\"Tabla temperature_day creada correctamente.\")\n",
    "\n",
    "def drop() -> None:\n",
    "    query = \"drop table if exists temperature_day\"\n",
    "    cassandra.execute(query)\n",
    "    postgres.execute(query)\n",
    "    print(\"Tabla temperature_day eliminada correctamente.\")\n",
    "\n",
    "def insert():\n",
    "    start_date = datetime(2023, 1, 1)\n",
    "    end_date = datetime(2024, 1, 1)\n",
    "    some_id = None\n",
    "    some_date = None\n",
    "\n",
    "    n = 10000\n",
    "\n",
    "    for _ in range(n):\n",
    "        sensor_id = str(uuid.uuid4())\n",
    "        date = random_date(start_date, end_date).strftime('%Y-%m-%d')\n",
    "        event_time = random_date(start_date, end_date)\n",
    "        temperature = random.uniform(-30.0, 50.0)\n",
    "\n",
    "        if _ == n//2:\n",
    "            some_id = sensor_id\n",
    "            some_date = date\n",
    "\n",
    "        query = \"\"\"\n",
    "        insert into temperature_day(sensor_id, date, event_time, temperature)\n",
    "        values (%s, %s, %s, %s)\n",
    "        \"\"\"\n",
    "\n",
    "        cassandra.execute(query, (sensor_id, date, event_time, temperature))\n",
    "        postgres.execute(query, (sensor_id, date, event_time, temperature))\n",
    "\n",
    "    print(f\"{n} filas insertadas correctamente en la tabla temperature_day.\")\n",
    "    return some_id, some_date\n",
    "\n",
    "def test(sensor_id, date) -> None:\n",
    "    query = \"\"\"\n",
    "    select *\n",
    "    from temperature_day\n",
    "    where sensor_id = '{sensor_id}' and date = '{date}'\n",
    "    \"\"\"\n",
    "    start = time.time()\n",
    "    cassandra_result = cassandra.execute(query)\n",
    "    end = time.time()\n",
    "    cassandra_time = end - start\n",
    "\n",
    "    start = None\n",
    "    end = None\n",
    "\n",
    "    start = time.time()\n",
    "    postgres.execute(query)\n",
    "    postgres_result = postgres.fetchall()\n",
    "    end = time.time()\n",
    "    postgres_time = end - start\n",
    "    print(f\"Tiempo de ejecución en Cassandra: {cassandra_time:.4f} segundos\")\n",
    "    print(f\"Tiempo de ejecución en PostgreSQL: {postgres_time:.4f} segundos\")\n",
    "\n",
    "drop()\n",
    "create()\n",
    "some_id, some_date = insert()\n",
    "test(some_id, some_date)"
   ]
  },
  {
   "attachments": {
    "image.png": {
     "image/png": "[encoded data removed]"
    }
   },
   "cell_type": "markdown",
   "id": "8047ac22",
   "metadata": {},
   "source": [
    "Prueba en DataGrip, se uso el mismo tipo de query pero con valores distintos de id y date.\n",
    "\n",
    "![image.png](attachment:image.png)"
   ]
  }
 ],
 "metadata": {
  "kernelspec": {
   "display_name": "Python 3",
   "language": "python",
   "name": "python3"
  },
  "language_info": {
   "codemirror_mode": {
    "name": "ipython",
    "version": 3
   },
   "file_extension": ".py",
   "mimetype": "text/x-python",
   "name": "python",
   "nbconvert_exporter": "python",
   "pygments_lexer": "ipython3",
   "version": "3.11.13"
  }
 },
 "nbformat": 4,
 "nbformat_minor": 5
}
