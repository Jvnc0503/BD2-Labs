{
 "cells": [
  {
   "cell_type": "markdown",
   "id": "60ecc817",
   "metadata": {},
   "source": [
    "# Lab15"
   ]
  },
  {
   "cell_type": "code",
   "execution_count": null,
   "id": "f248124a",
   "metadata": {
    "vscode": {
     "languageId": "plaintext"
    }
   },
   "outputs": [],
   "source": []
  }
 ],
 "metadata": {
  "language_info": {
   "name": "python"
  }
 },
 "nbformat": 4,
 "nbformat_minor": 5
}
