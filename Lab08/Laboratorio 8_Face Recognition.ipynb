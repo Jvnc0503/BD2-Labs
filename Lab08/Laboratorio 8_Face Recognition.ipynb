{
 "cells": [
  {
   "cell_type": "markdown",
   "metadata": {},
   "source": [
    "<div style=\"border-radius: 5px; padding: 1rem; margin-bottom: 1rem\">\n",
    "<img src=\"https://www.prototypesforhumanity.com/wp-content/uploads/2022/11/LOGO_UTEC_.png\" alt=\"Banner\" width=\"150\" />   \n",
    " </div>\n",
    "\n",
    "# Laboratorio 8: Vectorización, Indexación y Reconocimiento de Rostros\n",
    "\n",
    "> **Prof. Heider Sanchez**  \n",
    "> **ACLs:** Ana María Accilio, Sebastián Loza\n",
    "\n",
    "## Introducción\n",
    "\n",
    "Las imágenes, y específicamente los rostros, representan uno de los tipos más complejos de datos no estructurados, requiriendo técnicas especializadas para su procesamiento y recuperación eficiente.\n",
    "\n",
    "El manejo de datos biométricos faciales presenta varios retos:\n",
    "- La necesidad de convertir información visual compleja en representaciones numéricas procesables.\n",
    "- El almacenamiento eficiente de vectores de alta dimensionalidad (vectores característicos faciales).\n",
    "- La implementación de búsquedas rápidas y precisas en grandes colecciones de datos.\n",
    "\n",
    "Este laboratorio aborda estos desafíos explorando diferentes técnicas de indexación vectorial para optimizar la búsqueda de rostros similares. \n",
    "\n",
    "El proceso general consiste en:\n",
    "\n",
    "1. **Vectorización de rostros**: Utilizando la biblioteca `face_recognition`, convertiremos imágenes de rostros en vectores de características (embeddings) de 128 dimensiones que capturan los rasgos faciales distintivos.\n",
    "\n",
    "2. **Indexación**: Exploraremos diferentes estructuras de indexación para almacenar y buscar eficientemente estos vectores:\n",
    "   - Búsqueda lineal (fuerza bruta)\n",
    "   - Índice Multidimensional con GiST\n",
    "   - Índice de Alta Dimensión con pgvector\n",
    "   \n",
    "3. **Búsqueda de similitud**: Implementaremos búsquedas de k vecinos más cercanos (k-NN) para encontrar rostros similares a una imagen de consulta.\n"
   ]
  },
  {
   "cell_type": "markdown",
   "metadata": {},
   "source": [
    "## P1. Desempeño del GiST (RTree) en Altas Dimensiones\n",
    "Vamos empezar el laboratorio evaluando el desempeño del índice multidimensional GIST de PostgreSQL para diferentes dimensiones del vector característico.\n",
    "\n",
    "- Crear una tabla con dos campos de tipo \"cube\".\n",
    "- Poblar la tabla con N puntos aleatorios de D dimensiones en ambos campos.  \n",
    "  - $N = 10^6$\n",
    "  - $D = [2,4,6,8,16,32,64]$\n",
    "- Luego proceder a crear el índice gist sobre uno de ellos.\n",
    "- Realizar un análisis comparativo de los tiempos de la búsqueda KNN secuencial y la búsqueda KNN indexada para $K=3$.\n",
    "- Ambas búsquedas, secuencial e indexada, deben usar la misma consulta SQL pero en diferentes campos.\n",
    "- Capturar los tiempos del plan de ejecución y elabore la tabla de resultados de forma similar a la tabla del apartado anterior.\n",
    "- Elaborar gráficos comparativos necesarios para responder las siguientes preguntas:\n",
    "  - ¿A partir de qué valor de N conviene aplicar el RTree en lugar de búsqueda lineal?\n",
    "  - ¿Hasta qué dimensión D conviene usar el RTree para búsquedas KNN en lugar de la búsqueda lineal?  \n",
    "\n",
    "\n",
    "#### Tutorial de Uso de GiST en PostgreSQL\n",
    "```sql\n",
    "create extension cube;\n",
    "\n",
    "-- create a table with two vectors\n",
    "create table vectors (id serial, vector_lineal cube, vector_gist cube);\n",
    "\n",
    "-- Populate table with random data of 4 dimensions:\n",
    "insert into vectors(id, vector_lineal)\n",
    "    select id,\n",
    "           cube(ARRAY[round(random()*1000),\n",
    "                      round(random()*1000),\n",
    "                      round(random()*1000),\n",
    "                      round(random()*1000)])\n",
    "      from generate_series(1, 1000) id;\n",
    "update vectors set vector_gist = vector_lineal;\n",
    "\n",
    "-- create the index\n",
    "CREATE INDEX idx_vectorind ON vectors USING gist(vector_gist);\n",
    "\n",
    "-- KNN using lineal scan\n",
    "explain analyze\n",
    "SELECT id, vector_lineal,\n",
    "       cube_distance(vector_lineal, '(636, 616, 153, 907)') as D\n",
    "  FROM vectors\n",
    " ORDER BY vector_lineal <-> '(636, 616, 153, 907)'\n",
    " LIMIT 5;\n",
    "\n",
    "-- KNN using the GiST index\n",
    "explain analyze\n",
    "SELECT id, vector_gist,\n",
    "       cube_distance(vector_gist, '(636, 616, 153, 907)') as D\n",
    "  FROM vectors\n",
    " ORDER BY vector_gist <-> '(636, 616, 153, 907)'\n",
    " LIMIT 5;\n",
    "```"
   ]
  },
  {
   "cell_type": "code",
   "execution_count": null,
   "metadata": {},
   "outputs": [],
   "source": [
    "\n",
    "r = {2: (63.231, 1.129),\n",
    "     4: (58.448, 6.541),\n",
    "     6: (77.356, 18.043),\n",
    "     8: (74.181, 31.269),\n",
    "     16: (86.913, 49.812),\n",
    "     32: (109.925, 138.682),\n",
    "     50: (119.806, 431.364)}"
   ]
  },
  {
   "cell_type": "markdown",
   "metadata": {},
   "source": [
    "## P2. Cargar el Dataset de Rostros\n",
    "\n",
    "### Instalación de dependencias\n",
    "\n",
    "Antes de comenzar, necesitamos instalar las siguientes librerías en Python:\n",
    "\n",
    "```bash\n",
    "# Instalar face_recognition (incluye dlib)\n",
    "conda install -c conda-forge face_recognition\n",
    "\n",
    "# Instalar librerías para manipulación de datos y visualización\n",
    "pip install pandas numpy matplotlib\n",
    "\n",
    "# Instalar Rtree para indexación espacial\n",
    "pip install Rtree\n",
    "```\n",
    "\n",
    "> **Nota**: La instalación de `face_recognition` puede ser compleja en Windows. Se recomienda usar conda para facilitar la instalación de las dependencias.\n",
    "\n",
    "\n",
    "### Descarga del dataset\n",
    "Descargar [LFW Dataset](https://www.kaggle.com/datasets/atulanandjha/lfwpeople/data) y descomprimir en una carpeta localmente.\n"
   ]
  },
  {
   "cell_type": "code",
   "execution_count": 2,
   "metadata": {},
   "outputs": [],
   "source": [
    "# Solución Aquí"
   ]
  },
  {
   "cell_type": "markdown",
   "metadata": {},
   "source": [
    "## P3. Generar los vectores característicos\n",
    "\n",
    "En esta etapa, convertiremos las imágenes de rostros en vectores numéricos (embeddings) que representan las características faciales. El proceso consiste en:\n",
    "\n",
    "1. **Extracción de características**: Usando la biblioteca `face_recognition`, cada imagen se procesa para:\n",
    "   - Detectar la ubicación del rostro\n",
    "   - Extraer un vector de 128 dimensiones que captura las características faciales distintivas\n",
    "\n",
    "2. **Almacenamiento**: Los vectores generados se almacenan en PostgreSQL:\n",
    "   - Evitar reprocesar las imágenes en cada ejecución\n",
    "   - Permitir la reutilización de los embeddings en diferentes técnicas de búsqueda\n",
    "\n",
    "La función `generate_face_embeddings()` debe implementar este proceso:\n",
    "- Recibe una colección de imágenes y el número N de rostros a procesar\n",
    "- Genera los embeddings faciales usando el modelo pre-entrenado de `face_recognition`\n",
    "- Guarda los resultados en base de datos."
   ]
  },
  {
   "cell_type": "code",
   "execution_count": 3,
   "metadata": {},
   "outputs": [],
   "source": [
    "# Solución Aquí"
   ]
  },
  {
   "cell_type": "markdown",
   "metadata": {},
   "source": [
    "## P4: Búsqueda KNN Lineal\n",
    "\n",
    "En este paso implementaremos el método más básico de búsqueda de vecinos más cercanos (k-NN) utilizando una búsqueda lineal:\n",
    "\n",
    "1. **Procesamiento de consulta**:\n",
    "   - Cargar la imagen de consulta\n",
    "   - Extraer su vector de características usando `face_recognition`\n",
    "\n",
    "2. **Búsqueda de similitud**:\n",
    "   - Comparar el vector de consulta con cada vector en la colección utilizando el operador `<->`\n",
    "   - Ordenar los resultados por distancia y retornar los k vectores más cercanos\n",
    "\n",
    "Aunque este método es simple de implementar, su complejidad es O(n) ya que requiere comparar con todos los vectores de la colección."
   ]
  },
  {
   "cell_type": "code",
   "execution_count": 4,
   "metadata": {},
   "outputs": [],
   "source": [
    "# Solución Aquí"
   ]
  },
  {
   "cell_type": "markdown",
   "metadata": {},
   "source": [
    "## P5. Búsqueda KNN usando GiST de PostgreSQL\n",
    "\n",
    "En este paso implementaremos la búsqueda KNN utilizando el índice GiST creado para el campo que almacena los vectores caracteristicos del rostro. \n",
    "\n",
    "Se espera que esta implementación ofrezca mejor rendimiento que la búsqueda lineal, ya que el R-Tree optimiza la búsqueda reduciendo el espacio de búsqueda usando su estructura jerárquica."
   ]
  },
  {
   "cell_type": "code",
   "execution_count": 5,
   "metadata": {},
   "outputs": [],
   "source": [
    "# Solución Aquí"
   ]
  },
  {
   "cell_type": "markdown",
   "metadata": {},
   "source": [
    "## P6. Búsqueda KNN usando PyVector de PostgreSQL\n",
    "\n",
    "En este paso implementaremos la búsqueda KNN utilizando PostgreSQL con la extensión `pgvector`, que proporciona soporte nativo para búsquedas de similitud en vectores. El proceso incluye:\n",
    "\n",
    "1. **Configuración de la base de datos**:\n",
    "   - Instalar la extensión pgvector con docker:     \n",
    "     ```bash\n",
    "     docker run -d --name pgvector -e POSTGRES_PASSWORD=123456 -p 5502:5432  ankane/pgvector\n",
    "     ```\n",
    "   - Habilitar la extensión pgvector  \n",
    "     ```SQL\n",
    "     CREATE EXTENSION IF NOT EXISTS vector;\n",
    "     ```\n",
    "   - Crear una tabla para almacenar los embeddings faciales\n",
    "     ```SQL\n",
    "     CREATE TABLE IF NOT EXISTS face_embeddings (\n",
    "        id SERIAL PRIMARY KEY,\n",
    "        name TEXT,\n",
    "        embedding VECTOR(128)  -- Vectores de 128 dimensiones\n",
    "     );\n",
    "     ```\n",
    "   - Crear un índice IVFFlat para optimizar las búsquedas\n",
    "     ```SQL\n",
    "     CREATE INDEX IF NOT EXISTS face_embedding_index\n",
    "        ON face_embeddings USING ivfflat (embedding vector_cosine_ops) WITH (lists = 100);\n",
    "     ```\n",
    "\n",
    "2. **Búsqueda de similitud**:\n",
    "   - Utilizar el operador `<->` de pgvector para calcular la distancia euclidiana, o `<=>` para calcular la distancia coseno.\n",
    "   - Ejecutar consultas KNN aprovechando el índice vectorial\n",
    "   - Recuperar los rostros más similares ordenados por distancia\n",
    "    ```SQL\n",
    "     SET ivfflat.probes = 10; -- centroides (clusters) visitados durante una búsqueda\n",
    "\n",
    "     SELECT id, name, embedding <=> '[0.12, 0.34, ..., 0.99]' AS distance\n",
    "     FROM face_embeddings\n",
    "     ORDER BY embedding <=> '[0.12, 0.34, ..., 0.99]'\n",
    "     LIMIT 5;\n",
    "    ```\n",
    "\n",
    "Esta implementación es especialmente útil cuando necesitamos integrar la búsqueda de similitud en una aplicación que ya utiliza PostgreSQL como base de datos principal."
   ]
  },
  {
   "cell_type": "code",
   "execution_count": 6,
   "metadata": {},
   "outputs": [],
   "source": [
    "# Solución Aquí"
   ]
  },
  {
   "cell_type": "markdown",
   "metadata": {},
   "source": [
    "# Análisis de resultados\n",
    "\n",
    "Realice un análisis comparativo de los cuatro métodos de búsqueda implementados considerando:\n",
    "\n",
    "1. **Rendimiento**:\n",
    "   - Comparar tiempos de ejecución\n",
    "   - Crear gráfico comparativo de velocidad\n",
    "   - Evaluar con diferentes tamaños de dataset\n",
    "\n",
    "2. **Efectividad**:\n",
    "   - Calidad de resultados obtenidos\n",
    "   - Comparación de precisión entre métodos\n",
    "\n",
    "3. **Conclusiones**:\n",
    "   - Ventajas/desventajas de cada método\n",
    "   - Recomendaciones de uso según el escenario\n",
    "\n",
    "Incluya gráficos que sustenten sus hallazgos."
   ]
  }
 ],
 "metadata": {
  "kernelspec": {
   "display_name": "base",
   "language": "python",
   "name": "python3"
  },
  "language_info": {
   "codemirror_mode": {
    "name": "ipython",
    "version": 3
   },
   "file_extension": ".py",
   "mimetype": "text/x-python",
   "name": "python",
   "nbconvert_exporter": "python",
   "pygments_lexer": "ipython3",
   "version": "3.12.3"
  }
 },
 "nbformat": 4,
 "nbformat_minor": 2
}
