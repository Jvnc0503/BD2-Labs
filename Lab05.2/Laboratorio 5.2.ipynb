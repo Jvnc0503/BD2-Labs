{
 "cells": [
  {
   "cell_type": "markdown",
   "metadata": {
    "cell_id": "f2b6da609e704f94a7612894f1f0d838",
    "deepnote_app_block_group_id": null,
    "deepnote_app_block_order": 0,
    "deepnote_app_block_visible": true,
    "deepnote_cell_type": "markdown"
   },
   "source": [
    "<div style=\"border-radius: 5px; padding: 1rem; margin-bottom: 1rem\">\n",
    "<img src=\"https://www.prototypesforhumanity.com/wp-content/uploads/2022/11/LOGO_UTEC_.png\" alt=\"Banner\" width=\"150\" />   \n",
    " </div>\n",
    "\n",
    "# Laboratorio 5.2: Similitud de Coseno e Indice Invertido\n",
    "\n",
    "> **Prof. Heider Sanchez**  \n",
    "> **ACLs:** Ana María Accilio, Sebastián Loza\n",
    "\n",
    "## Introducción\n",
    "\n",
    "Este laboratorio tiene como objetivo que los estudiantes implementen un sistema de análisis y búsqueda de documentos utilizando Procesamiento de Lenguaje Natural (NLP) y una base de datos PostgreSQL. Se trabajará a partir de los Bag of Words generados en el laboratorio 5.1, agregando dos funcionalidades principales: búsquedas rankeadas mediante similitud de coseno e índices invertidos para una recuperación eficiente de documentos.\n",
    "\n",
    "\n",
    "### Objetivos\n",
    "- Implementar la lectura de Bags of Words desde PostgreSQL utilizando Python.\n",
    "- Desarrollar un sistema de búsqueda de documentos similares mediante similitud de coseno que:\n",
    "  - Procese consultas en lenguaje natural\n",
    "  - Filtre documentos relevantes según palabras clave\n",
    "  - Ordene resultados por relevancia mediante similitud de coseno\n",
    "- Diseñar e implementar un índice invertido para:\n",
    "  - Optimizar las búsquedas booleanas\n",
    "  - Mejorar el rendimiento de la similitud de coseno\n",
    "  - Reducir el tiempo de recuperación de documentos\n",
    "\n",
    "### Requisitos previos\n",
    "\n",
    "- Haber cargado la tabla de noticias en PostgreSQL y generado el bag of word.\n",
    "- Tener instalado las dependencias de NLTK en Python.\n",
    "- Completar la función para conectarte a PostgreSQL y leer los datos:"
   ]
  },
  {
   "cell_type": "code",
   "execution_count": null,
   "metadata": {
    "cell_id": "844c3caf221d4664a0b1df368ad17672",
    "deepnote_app_block_group_id": null,
    "deepnote_app_block_order": 1,
    "deepnote_app_block_visible": true,
    "deepnote_app_is_code_hidden": true,
    "deepnote_app_is_output_hidden": false,
    "deepnote_cell_type": "code"
   },
   "outputs": [],
   "source": [
    "import psycopg2\n",
    "import pandas as pd\n",
    "\n",
    "def connect_db():\n",
    "    conn = psycopg2.connect(\n",
    "        dbname=\"<DB>\",\n",
    "        user=\"<USER>\",\n",
    "        password=\"<PASSWORD>\",\n",
    "        host=\"<HOST>\"\n",
    "    )\n",
    "    return conn\n",
    "\n",
    "def fetch_data():\n",
    "    conn = connect_db()\n",
    "    query = \"SELECT id, contenido, bag_of_words FROM noticias;\"\n",
    "    df = pd.read_sql(query, conn)\n",
    "    df['bag_of_words'] = df['bag_of_words'].apply(json.loads)\n",
    "    conn.close()\n",
    "    return df\n",
    "\n",
    "noticias_df = fetch_data()"
   ]
  },
  {
   "cell_type": "markdown",
   "metadata": {
    "cell_id": "d8176ad97a374c2abe918d8498b64018",
    "deepnote_app_block_group_id": null,
    "deepnote_app_block_order": 2,
    "deepnote_app_block_visible": true,
    "deepnote_cell_type": "markdown"
   },
   "source": [
    "## 1. (5 puntos) Bag of Words y Similitud de Coseno \n",
    "\n",
    "El proceso de búsqueda se realiza en dos etapas:\n",
    "\n",
    "1. **Filtrado inicial**:\n",
    "   - Recibe una consulta en texto natural\n",
    "   - Procesa la consulta para extraer palabras clave\n",
    "   - Utiliza operadores OR en SQL para recuperar documentos que contengan al menos una palabra clave\n",
    "\n",
    "2. **Ordenamiento por relevancia**:\n",
    "   - Convierte los Bag of Words de los documentos filtrados en vectores numéricos (usando solo la frecuencia)\n",
    "   - Calcula la similitud de coseno entre la consulta y cada documento\n",
    "   - Ordena los resultados por similitud descendente\n",
    "   - Retorna los top-k documentos más relevantes"
   ]
  },
  {
   "cell_type": "code",
   "execution_count": null,
   "metadata": {
    "cell_id": "f74cafd2ab3248248f241d1b655ed27b",
    "deepnote_app_block_group_id": null,
    "deepnote_app_block_order": 3,
    "deepnote_app_block_visible": true,
    "deepnote_app_is_code_hidden": true,
    "deepnote_app_is_output_hidden": false,
    "deepnote_cell_type": "code"
   },
   "outputs": [],
   "source": [
    "# Solución Aquí\n",
    "\n",
    "def search(query, top_k=5):\n",
    "    pass"
   ]
  },
  {
   "cell_type": "markdown",
   "metadata": {
    "cell_id": "c235158e77af4a9eb339b54c1b0e4a2b",
    "deepnote_app_block_group_id": null,
    "deepnote_app_block_order": 4,
    "deepnote_app_block_visible": true,
    "deepnote_cell_type": "markdown"
   },
   "source": [
    "####  Pruebas funcionales"
   ]
  },
  {
   "cell_type": "code",
   "execution_count": null,
   "metadata": {
    "cell_id": "7756c4ba532742fdb55fd6300c18d827",
    "deepnote_app_block_group_id": null,
    "deepnote_app_block_order": 5,
    "deepnote_app_block_visible": true,
    "deepnote_app_is_code_hidden": true,
    "deepnote_app_is_output_hidden": false,
    "deepnote_cell_type": "code"
   },
   "outputs": [],
   "source": [
    "test_queries = [\n",
    "    \"¿Cuáles son las últimas innovaciones en la banca digital y la tecnología financiera?\",\n",
    "    \"evolución de la inflación y el crecimiento de la economía en los últimos años\",\n",
    "    \"avances sobre sostenibilidad y energías renovables para el medio ambiente\"\n",
    "]\n",
    "\n",
    "for query in test_queries:\n",
    "    results = search(query, top_k=3)\n",
    "    print(f\"Probando consulta: '{query}'\")\n",
    "    for _, row in results.iterrows():\n",
    "        print(f\"\\nID: {row['id']}\")\n",
    "        print(f\"Similitud: {row['similarity']:.3f}\")\n",
    "        print(f\"Texto: {row['contenido'][:200]}...\")\n",
    "    print(\"-\" * 50)"
   ]
  },
  {
   "cell_type": "markdown",
   "metadata": {
    "cell_id": "332e85974d48419bbd099549f1ea5e26",
    "deepnote_app_block_group_id": null,
    "deepnote_app_block_order": 6,
    "deepnote_app_block_visible": true,
    "deepnote_cell_type": "markdown"
   },
   "source": [
    "## 2. (5 puntos) Construcción del Indice Invertido \n",
    "\n",
    "A partir de los  `bag of words` almacenados en la base de datos, se debe construir un índice invertido y conservarlo en un diccionario de Python para su eficiente recuperación."
   ]
  },
  {
   "cell_type": "code",
   "execution_count": null,
   "metadata": {
    "cell_id": "9c479dcdaca846c99ea6df3f93fa875f",
    "deepnote_app_block_group_id": null,
    "deepnote_app_block_order": 7,
    "deepnote_app_block_visible": true,
    "deepnote_app_is_code_hidden": true,
    "deepnote_app_is_output_hidden": false,
    "deepnote_cell_type": "code"
   },
   "outputs": [],
   "source": [
    "class InvertedIndex:\n",
    "    def __init__(self):\n",
    "        self.index = {}\n",
    "        self.idf = {}\n",
    "        self.length = {}\n",
    "\n",
    "    def build_from_db(self):\n",
    "        # Leer desde PostgreSQL todos los bag of words\n",
    "        # Construir el índice invertido, el idf y la norma (longitud) de cada documento\n",
    "        \n",
    "        \"\"\"\n",
    "        indice  = {\n",
    "            \"word1\": [(\"doc1\", tf1), (\"doc2\", tf2), (\"doc3\", tf3)],\n",
    "            \"word2\": [(\"doc2\", tf2), (\"doc4\", tf4)],\n",
    "            \"word3\": [(\"doc3\", tf3), (\"doc5\", tf5)],\n",
    "        } \n",
    "        idf  = {\n",
    "            \"word1\": 3,\n",
    "            \"word2\": 2,\n",
    "            \"word3\": 2,\n",
    "        } \n",
    "        length = {\n",
    "            \"doc1\": 15.5236,\n",
    "            \"doc2\": 10.5236,\n",
    "            \"doc3\": 5.5236,\n",
    "        }\n",
    "        \"\"\"\n",
    "        pass\n",
    "    \n",
    "    def L(self, word):\n",
    "        return self.index.get(word, [])\n",
    "  \n",
    "    def cosine_search(self, query, top_k=5):  \n",
    "        score = {}\n",
    "        # No es necesario usar vectores numericos del tamaño del vocabulario\n",
    "        # Guiarse del algoritmo visto en clase\n",
    "        # Se debe calcular el tf-idf de la query y de cada documento\n",
    "        \n",
    "        # TODO\n",
    "        \n",
    "        # Ordenar el score resultante de forma descendente\n",
    "        result = sorted(score.items(), key= lambda tup: tup[1], reverse=True)\n",
    "        # retornamos los k documentos mas relevantes (de mayor similitud a la query)\n",
    "        return result[:top_k] "
   ]
  },
  {
   "cell_type": "markdown",
   "metadata": {
    "cell_id": "eb1b05f2abc244d3ba82888437869e6f",
    "deepnote_app_block_group_id": null,
    "deepnote_app_block_order": 8,
    "deepnote_app_block_visible": true,
    "deepnote_cell_type": "markdown"
   },
   "source": [
    "## 3. (4 puntos) Consultas Booleanas usando el indice invertido\n",
    "\n",
    "Implementar búsquedas booleanas utilizando el índice invertido construido anteriormente. La búsqueda debe:\n",
    "\n",
    "- Soportar los operadores básicos:\n",
    "    - AND: intersección de documentos\n",
    "    - OR: unión de documentos\n",
    "    - AND-NOT: diferencia de documentos\n",
    "- Procesar consultas como:\n",
    "    - \"sostenibilidad AND ambiente AND renovable\"\n",
    "    - \"tecnología AND (banca OR finanzas)\"\n",
    "    - \"economía AND-NOT inflación\"    "
   ]
  },
  {
   "cell_type": "markdown",
   "metadata": {
    "cell_id": "c5dd37f936f84425b38fd4f42260ed60",
    "deepnote_app_block_group_id": null,
    "deepnote_app_block_order": 9,
    "deepnote_app_block_visible": true,
    "deepnote_cell_type": "markdown"
   },
   "source": [
    "####  Pruebas funcionales"
   ]
  },
  {
   "cell_type": "code",
   "execution_count": null,
   "metadata": {
    "cell_id": "df0b38b4510d4f9fb414432e22415dc9",
    "deepnote_app_block_group_id": null,
    "deepnote_app_block_order": 10,
    "deepnote_app_block_visible": true,
    "deepnote_app_is_code_hidden": true,
    "deepnote_app_is_output_hidden": false,
    "deepnote_cell_type": "code"
   },
   "outputs": [],
   "source": [
    "idx = InvertedIndex()\n",
    "idx.build_from_db()\n",
    "\n",
    "def AND(list1, list2):\n",
    "    # Implementar la intersección de dos listas O(n +m)\n",
    "    pass\n",
    "\n",
    "def OR(list1, list2):\n",
    "    # Implementar la unión de dos listas O(n +m)\n",
    "    pass\n",
    "\n",
    "def AND_NOT(list1, list2):\n",
    "    # Implementar la diferencia de dos listas O(n +m)\n",
    "    pass\n",
    "\n",
    "# Prueba 1\n",
    "result = AND(idx.L(\"sostenibilidad\"), AND(idx.L(\"ambiente\"), idx.L(\"renovables\")))\n",
    "print(\"sostenibilidad AND ambiente AND renovable: \", idx.showDocuments(result))\n",
    "\n",
    "# Prueba 2\n",
    "result = AND(idx.L(\"tecnología\"), OR(idx.L(\"banca\"), idx.L(\"finanzas\")))\n",
    "print(\"tecnología AND (banca OR finanzas): \", idx.showDocuments(result))\n",
    "\n",
    "# Prueba 3\n",
    "result = AND_NOT(idx.L(\"economía\"), idx.L(\"inflación\"))\n",
    "print(\"economía AND-NOT inflación: \" , idx.showDocuments(result))"
   ]
  },
  {
   "cell_type": "markdown",
   "metadata": {
    "cell_id": "60b8c87be45046158b71c6c8c131324a",
    "deepnote_app_block_group_id": null,
    "deepnote_app_block_order": 11,
    "deepnote_app_block_visible": true,
    "deepnote_cell_type": "markdown"
   },
   "source": [
    "## 4. (6 puntos) Similitud de coseno usando el indice invertido\n",
    "Implementar búsqueda por similitud de coseno aprovechando el índice invertido:\n",
    "\n",
    "- Proceso de búsqueda:\n",
    "    - Recibe una consulta en lenguaje natural y un parámetro top_k\n",
    "    - Utiliza el índice invertido para identificar documentos candidatos\n",
    "    - Calcula similitud de coseno solo con los documentos relevantes utilizando los pesos TF-IDF\n",
    "    - Retorna los top-k documentos más similares\n",
    "\n",
    "<img src=\"imagenes/image-20250506-162949.png\" width=\"500\" align=\"\" />"
   ]
  },
  {
   "cell_type": "markdown",
   "metadata": {
    "cell_id": "01ac062df1044197b08bae0f72d618c4",
    "deepnote_app_block_group_id": null,
    "deepnote_app_block_order": 12,
    "deepnote_app_block_visible": true,
    "deepnote_cell_type": "markdown"
   },
   "source": [
    "####  Pruebas funcionales"
   ]
  },
  {
   "cell_type": "code",
   "execution_count": null,
   "metadata": {
    "cell_id": "f7be5a20c923473b838181b784b890b0",
    "deepnote_app_block_group_id": null,
    "deepnote_app_block_order": 13,
    "deepnote_app_block_visible": true,
    "deepnote_app_is_code_hidden": true,
    "deepnote_app_is_output_hidden": false,
    "deepnote_cell_type": "code"
   },
   "outputs": [],
   "source": [
    "test_queries = [\n",
    "    \"¿Cuáles son las últimas innovaciones en la banca digital y la tecnología financiera?\",\n",
    "    \"evolución de la inflación y el crecimiento de la economía en los últimos años\",\n",
    "    \"avances sobre sostenibilidad y energías renovables para el medio ambiente\"\n",
    "]\n",
    "\n",
    "for test in test_queries:    \n",
    "    results = idx.cosine_search(test['query'], test['top_k'])\n",
    "    print(f\"Top {test['top_k']} documentos más similares:\")    \n",
    "    for doc_id, score in results:\n",
    "        print(f\"Doc {doc_id}: {score:.3f}: \", idx.showDocument(doc_id))"
   ]
  },
  {
   "cell_type": "markdown",
   "metadata": {
    "created_in_deepnote_cell": true,
    "deepnote_cell_type": "markdown"
   },
   "source": [
    "<a style='text-decoration:none;line-height:16px;display:flex;color:#5B5B62;padding:10px;justify-content:end;' href='https://deepnote.com?utm_source=created-in-deepnote-cell&projectId=0cac3f27-ab57-45e1-94d7-eb1f84dca7ec' target=\"_blank\">\n",
    "<img alt='Created in deepnote.com' style='display:inline;max-height:16px;margin:0px;margin-right:7.5px;' src='data:image/svg+xml;base64,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' > </img>\n",
    "Created in <span style='font-weight:600;margin-left:4px;'>Deepnote</span></a>"
   ]
  }
 ],
 "metadata": {
  "deepnote_app_clear_outputs": false,
  "deepnote_app_execution_enabled": false,
  "deepnote_app_layout": "powerful-article",
  "deepnote_app_reactivity_enabled": false,
  "deepnote_app_run_on_input_enabled": false,
  "deepnote_app_run_on_load_enabled": false,
  "deepnote_notebook_id": "06ed60ec5c244088a1d0a36a2bfe5404",
  "deepnote_persisted_session": {
   "createdAt": "2024-05-16T15:15:24.980Z"
  },
  "language_info": {
   "name": "python"
  }
 },
 "nbformat": 4,
 "nbformat_minor": 0
}
